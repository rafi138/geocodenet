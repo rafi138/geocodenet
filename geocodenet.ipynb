{
  "nbformat": 4,
  "nbformat_minor": 0,
  "metadata": {
    "kernelspec": {
      "display_name": "Python 3",
      "language": "python",
      "name": "python3"
    },
    "language_info": {
      "codemirror_mode": {
        "name": "ipython",
        "version": 3
      },
      "file_extension": ".py",
      "mimetype": "text/x-python",
      "name": "python",
      "nbconvert_exporter": "python",
      "pygments_lexer": "ipython3",
      "version": "3.8.6"
    },
    "colab": {
      "name": "geocodenet.ipynb",
      "provenance": [],
      "collapsed_sections": [],
      "include_colab_link": true
    },
    "accelerator": "TPU"
  },
  "cells": [
    {
      "cell_type": "markdown",
      "metadata": {
        "id": "view-in-github",
        "colab_type": "text"
      },
      "source": [
        "<a href=\"https://colab.research.google.com/github/scampion/geocodenet/blob/main/geocodenet.ipynb\" target=\"_parent\"><img src=\"https://colab.research.google.com/assets/colab-badge.svg\" alt=\"Open In Colab\"/></a>"
      ]
    },
    {
      "cell_type": "code",
      "metadata": {
        "id": "5gc_vPX5G69m",
        "outputId": "283a2500-b840-4db4-83fc-ab599e7b2303",
        "colab": {
          "base_uri": "https://localhost:8080/"
        }
      },
      "source": [
        "from google.colab import drive\n",
        "drive.mount('/content/drive')"
      ],
      "execution_count": 4,
      "outputs": [
        {
          "output_type": "stream",
          "text": [
            "Drive already mounted at /content/drive; to attempt to forcibly remount, call drive.mount(\"/content/drive\", force_remount=True).\n"
          ],
          "name": "stdout"
        }
      ]
    },
    {
      "cell_type": "code",
      "metadata": {
        "id": "od13u8PNFqgX",
        "outputId": "2273c6ad-d8f8-4ee9-c3fc-ba0ec6eff6b8",
        "colab": {
          "base_uri": "https://localhost:8080/",
          "height": 359
        }
      },
      "source": [
        "import numpy as np\n",
        "import pandas as pd\n",
        "df = pd.read_csv('/content/drive/My Drive/france.csv')\n",
        "df.fillna('', inplace=True)\n",
        "for c in ['number', 'street', 'postalcode', 'city']:    \n",
        "    df[c].astype(object).replace(np.nan, 'None')\n",
        "df['address'] = (df['number'] + \" \" + df['street'] + \" \" + df['postalcode'] + \" \" + df['city'])\n",
        "del df['number']\n",
        "del df['street']\n",
        "del df['postalcode']\n",
        "del df['city']\n",
        "df['address'] = df['address'].str.lower()\n",
        "df.head(n=10)"
      ],
      "execution_count": 141,
      "outputs": [
        {
          "output_type": "execute_result",
          "data": {
            "text/html": [
              "<div>\n",
              "<style scoped>\n",
              "    .dataframe tbody tr th:only-of-type {\n",
              "        vertical-align: middle;\n",
              "    }\n",
              "\n",
              "    .dataframe tbody tr th {\n",
              "        vertical-align: top;\n",
              "    }\n",
              "\n",
              "    .dataframe thead th {\n",
              "        text-align: right;\n",
              "    }\n",
              "</style>\n",
              "<table border=\"1\" class=\"dataframe\">\n",
              "  <thead>\n",
              "    <tr style=\"text-align: right;\">\n",
              "      <th></th>\n",
              "      <th>Unnamed: 0</th>\n",
              "      <th>long</th>\n",
              "      <th>lat</th>\n",
              "      <th>address</th>\n",
              "    </tr>\n",
              "  </thead>\n",
              "  <tbody>\n",
              "    <tr>\n",
              "      <th>0</th>\n",
              "      <td>0</td>\n",
              "      <td>0.504040</td>\n",
              "      <td>0.742304</td>\n",
              "      <td>31500 toulouse</td>\n",
              "    </tr>\n",
              "    <tr>\n",
              "      <th>1</th>\n",
              "      <td>1</td>\n",
              "      <td>0.490218</td>\n",
              "      <td>0.770736</td>\n",
              "      <td>0 chemin de halage 22300 lannion</td>\n",
              "    </tr>\n",
              "    <tr>\n",
              "      <th>2</th>\n",
              "      <td>2</td>\n",
              "      <td>0.490218</td>\n",
              "      <td>0.770736</td>\n",
              "      <td>22300 lannion</td>\n",
              "    </tr>\n",
              "    <tr>\n",
              "      <th>3</th>\n",
              "      <td>3</td>\n",
              "      <td>0.506738</td>\n",
              "      <td>0.771838</td>\n",
              "      <td>0 place des déportés 93350 le bourget</td>\n",
              "    </tr>\n",
              "    <tr>\n",
              "      <th>4</th>\n",
              "      <td>4</td>\n",
              "      <td>0.506738</td>\n",
              "      <td>0.771838</td>\n",
              "      <td>93350 le bourget</td>\n",
              "    </tr>\n",
              "    <tr>\n",
              "      <th>5</th>\n",
              "      <td>5</td>\n",
              "      <td>0.509069</td>\n",
              "      <td>0.776955</td>\n",
              "      <td>02100 saint-quentin</td>\n",
              "    </tr>\n",
              "    <tr>\n",
              "      <th>6</th>\n",
              "      <td>6</td>\n",
              "      <td>0.518043</td>\n",
              "      <td>0.747438</td>\n",
              "      <td>05200 baratier</td>\n",
              "    </tr>\n",
              "    <tr>\n",
              "      <th>7</th>\n",
              "      <td>7</td>\n",
              "      <td>0.509021</td>\n",
              "      <td>0.740731</td>\n",
              "      <td>1 avenue de la dévèze 34500 béziers</td>\n",
              "    </tr>\n",
              "    <tr>\n",
              "      <th>8</th>\n",
              "      <td>8</td>\n",
              "      <td>0.509021</td>\n",
              "      <td>0.740731</td>\n",
              "      <td>34500 béziers</td>\n",
              "    </tr>\n",
              "    <tr>\n",
              "      <th>9</th>\n",
              "      <td>9</td>\n",
              "      <td>0.516791</td>\n",
              "      <td>0.741160</td>\n",
              "      <td>83170 brignoles</td>\n",
              "    </tr>\n",
              "  </tbody>\n",
              "</table>\n",
              "</div>"
            ],
            "text/plain": [
              "   Unnamed: 0      long       lat                                address\n",
              "0           0  0.504040  0.742304                         31500 toulouse\n",
              "1           1  0.490218  0.770736       0 chemin de halage 22300 lannion\n",
              "2           2  0.490218  0.770736                          22300 lannion\n",
              "3           3  0.506738  0.771838  0 place des déportés 93350 le bourget\n",
              "4           4  0.506738  0.771838                       93350 le bourget\n",
              "5           5  0.509069  0.776955                    02100 saint-quentin\n",
              "6           6  0.518043  0.747438                         05200 baratier\n",
              "7           7  0.509021  0.740731    1 avenue de la dévèze 34500 béziers\n",
              "8           8  0.509021  0.740731                          34500 béziers\n",
              "9           9  0.516791  0.741160                        83170 brignoles"
            ]
          },
          "metadata": {
            "tags": []
          },
          "execution_count": 141
        }
      ]
    },
    {
      "cell_type": "code",
      "metadata": {
        "id": "CnHb1yUzFqg0"
      },
      "source": [
        "max(df['address'].map(len)) # max address size\n",
        "max_address_length = 200 "
      ],
      "execution_count": 11,
      "outputs": []
    },
    {
      "cell_type": "code",
      "metadata": {
        "id": "AM-AFwAYFqg6"
      },
      "source": [
        "alphabet = \"abcdefghijklmnopqrstuvwxyz0123456789-,;.!?:'\\\"/\\\\|_@#$%^&*~`+-=<>()[]{}\"\n",
        "def str_to_indexes(s, length):\n",
        "    s = s.lower()\n",
        "    max_length = min(len(s), length)\n",
        "    str2idx = np.zeros(length, dtype='int64')\n",
        "    for i in range(1, max_length + 1):\n",
        "        c = s[-i]\n",
        "        if c in alphabet:\n",
        "            str2idx[i - 1] = alphabet.index(c)\n",
        "    return str2idx"
      ],
      "execution_count": 142,
      "outputs": []
    },
    {
      "cell_type": "code",
      "metadata": {
        "id": "xwfKpJAUFqhA"
      },
      "source": [
        "df['address_encoded'] = df['address'].apply(str_to_indexes, length=max_address_length)"
      ],
      "execution_count": 144,
      "outputs": []
    },
    {
      "cell_type": "code",
      "metadata": {
        "id": "N_ZUYjpOFqhF"
      },
      "source": [
        "nbobs = len(df['address_encoded'])\n",
        "X = np.concatenate(df['address_encoded'].to_numpy()).ravel()\n",
        "X = X.reshape(nbobs, max_address_length)"
      ],
      "execution_count": 145,
      "outputs": []
    },
    {
      "cell_type": "code",
      "metadata": {
        "id": "m5vd_ZiEFqhI",
        "outputId": "fe4b5650-dac5-4808-c0d1-9170b9b2cdee",
        "colab": {
          "base_uri": "https://localhost:8080/"
        }
      },
      "source": [
        "X[0].shape"
      ],
      "execution_count": 48,
      "outputs": [
        {
          "output_type": "execute_result",
          "data": {
            "text/plain": [
              "(200,)"
            ]
          },
          "metadata": {
            "tags": []
          },
          "execution_count": 48
        }
      ]
    },
    {
      "cell_type": "code",
      "metadata": {
        "id": "Gb_KIxG5FqhL"
      },
      "source": [
        "Y = np.concatenate(df[['long', 'lat']].to_numpy()).ravel()\n",
        "Y = Y.reshape(nbobs, 2)"
      ],
      "execution_count": 15,
      "outputs": []
    },
    {
      "cell_type": "code",
      "metadata": {
        "id": "wNdoJsnhJPaj"
      },
      "source": [
        ""
      ],
      "execution_count": null,
      "outputs": []
    },
    {
      "cell_type": "code",
      "metadata": {
        "id": "XjkKSYBGI2wL",
        "outputId": "5015c288-a08d-40b1-93fb-f2c3d1343642",
        "colab": {
          "base_uri": "https://localhost:8080/"
        }
      },
      "source": [
        "import os \n",
        "try:\n",
        " device_name = os.environ['COLAB_TPU_ADDR']\n",
        " tpu_address = 'grpc://' + device_name\n",
        " print('Found TPU at: {}'.format(tpu_address))\n",
        "except KeyError:\n",
        " print('TPU not found')"
      ],
      "execution_count": 30,
      "outputs": [
        {
          "output_type": "stream",
          "text": [
            "Found TPU at: grpc://10.111.13.178:8470\n"
          ],
          "name": "stdout"
        }
      ]
    },
    {
      "cell_type": "code",
      "metadata": {
        "id": "bSw53ClFJP-j",
        "outputId": "c5fc862a-9bcd-4dd2-90d8-9b9b4b526337",
        "colab": {
          "base_uri": "https://localhost:8080/"
        }
      },
      "source": [
        "import tensorflow as tf\n",
        "\n",
        "cluster_resolver = tf.distribute.cluster_resolver.TPUClusterResolver(tpu=tpu_address)\n",
        "tf.config.experimental_connect_to_cluster(cluster_resolver)\n",
        "tf.tpu.experimental.initialize_tpu_system(cluster_resolver)\n",
        "tpu_strategy = tf.distribute.TPUStrategy(cluster_resolver)\n",
        "\n"
      ],
      "execution_count": 31,
      "outputs": [
        {
          "output_type": "stream",
          "text": [
            "INFO:tensorflow:Initializing the TPU system: grpc://10.111.13.178:8470\n"
          ],
          "name": "stdout"
        },
        {
          "output_type": "stream",
          "text": [
            "INFO:tensorflow:Initializing the TPU system: grpc://10.111.13.178:8470\n"
          ],
          "name": "stderr"
        },
        {
          "output_type": "stream",
          "text": [
            "INFO:tensorflow:Clearing out eager caches\n"
          ],
          "name": "stdout"
        },
        {
          "output_type": "stream",
          "text": [
            "INFO:tensorflow:Clearing out eager caches\n"
          ],
          "name": "stderr"
        },
        {
          "output_type": "stream",
          "text": [
            "INFO:tensorflow:Finished initializing TPU system.\n"
          ],
          "name": "stdout"
        },
        {
          "output_type": "stream",
          "text": [
            "INFO:tensorflow:Finished initializing TPU system.\n"
          ],
          "name": "stderr"
        },
        {
          "output_type": "stream",
          "text": [
            "INFO:tensorflow:Found TPU system:\n"
          ],
          "name": "stdout"
        },
        {
          "output_type": "stream",
          "text": [
            "INFO:tensorflow:Found TPU system:\n"
          ],
          "name": "stderr"
        },
        {
          "output_type": "stream",
          "text": [
            "INFO:tensorflow:*** Num TPU Cores: 8\n"
          ],
          "name": "stdout"
        },
        {
          "output_type": "stream",
          "text": [
            "INFO:tensorflow:*** Num TPU Cores: 8\n"
          ],
          "name": "stderr"
        },
        {
          "output_type": "stream",
          "text": [
            "INFO:tensorflow:*** Num TPU Workers: 1\n"
          ],
          "name": "stdout"
        },
        {
          "output_type": "stream",
          "text": [
            "INFO:tensorflow:*** Num TPU Workers: 1\n"
          ],
          "name": "stderr"
        },
        {
          "output_type": "stream",
          "text": [
            "INFO:tensorflow:*** Num TPU Cores Per Worker: 8\n"
          ],
          "name": "stdout"
        },
        {
          "output_type": "stream",
          "text": [
            "INFO:tensorflow:*** Num TPU Cores Per Worker: 8\n"
          ],
          "name": "stderr"
        },
        {
          "output_type": "stream",
          "text": [
            "INFO:tensorflow:*** Available Device: _DeviceAttributes(/job:localhost/replica:0/task:0/device:CPU:0, CPU, 0, 0)\n"
          ],
          "name": "stdout"
        },
        {
          "output_type": "stream",
          "text": [
            "INFO:tensorflow:*** Available Device: _DeviceAttributes(/job:localhost/replica:0/task:0/device:CPU:0, CPU, 0, 0)\n"
          ],
          "name": "stderr"
        },
        {
          "output_type": "stream",
          "text": [
            "INFO:tensorflow:*** Available Device: _DeviceAttributes(/job:localhost/replica:0/task:0/device:XLA_CPU:0, XLA_CPU, 0, 0)\n"
          ],
          "name": "stdout"
        },
        {
          "output_type": "stream",
          "text": [
            "INFO:tensorflow:*** Available Device: _DeviceAttributes(/job:localhost/replica:0/task:0/device:XLA_CPU:0, XLA_CPU, 0, 0)\n"
          ],
          "name": "stderr"
        },
        {
          "output_type": "stream",
          "text": [
            "INFO:tensorflow:*** Available Device: _DeviceAttributes(/job:worker/replica:0/task:0/device:CPU:0, CPU, 0, 0)\n"
          ],
          "name": "stdout"
        },
        {
          "output_type": "stream",
          "text": [
            "INFO:tensorflow:*** Available Device: _DeviceAttributes(/job:worker/replica:0/task:0/device:CPU:0, CPU, 0, 0)\n"
          ],
          "name": "stderr"
        },
        {
          "output_type": "stream",
          "text": [
            "INFO:tensorflow:*** Available Device: _DeviceAttributes(/job:worker/replica:0/task:0/device:TPU:0, TPU, 0, 0)\n"
          ],
          "name": "stdout"
        },
        {
          "output_type": "stream",
          "text": [
            "INFO:tensorflow:*** Available Device: _DeviceAttributes(/job:worker/replica:0/task:0/device:TPU:0, TPU, 0, 0)\n"
          ],
          "name": "stderr"
        },
        {
          "output_type": "stream",
          "text": [
            "INFO:tensorflow:*** Available Device: _DeviceAttributes(/job:worker/replica:0/task:0/device:TPU:1, TPU, 0, 0)\n"
          ],
          "name": "stdout"
        },
        {
          "output_type": "stream",
          "text": [
            "INFO:tensorflow:*** Available Device: _DeviceAttributes(/job:worker/replica:0/task:0/device:TPU:1, TPU, 0, 0)\n"
          ],
          "name": "stderr"
        },
        {
          "output_type": "stream",
          "text": [
            "INFO:tensorflow:*** Available Device: _DeviceAttributes(/job:worker/replica:0/task:0/device:TPU:2, TPU, 0, 0)\n"
          ],
          "name": "stdout"
        },
        {
          "output_type": "stream",
          "text": [
            "INFO:tensorflow:*** Available Device: _DeviceAttributes(/job:worker/replica:0/task:0/device:TPU:2, TPU, 0, 0)\n"
          ],
          "name": "stderr"
        },
        {
          "output_type": "stream",
          "text": [
            "INFO:tensorflow:*** Available Device: _DeviceAttributes(/job:worker/replica:0/task:0/device:TPU:3, TPU, 0, 0)\n"
          ],
          "name": "stdout"
        },
        {
          "output_type": "stream",
          "text": [
            "INFO:tensorflow:*** Available Device: _DeviceAttributes(/job:worker/replica:0/task:0/device:TPU:3, TPU, 0, 0)\n"
          ],
          "name": "stderr"
        },
        {
          "output_type": "stream",
          "text": [
            "INFO:tensorflow:*** Available Device: _DeviceAttributes(/job:worker/replica:0/task:0/device:TPU:4, TPU, 0, 0)\n"
          ],
          "name": "stdout"
        },
        {
          "output_type": "stream",
          "text": [
            "INFO:tensorflow:*** Available Device: _DeviceAttributes(/job:worker/replica:0/task:0/device:TPU:4, TPU, 0, 0)\n"
          ],
          "name": "stderr"
        },
        {
          "output_type": "stream",
          "text": [
            "INFO:tensorflow:*** Available Device: _DeviceAttributes(/job:worker/replica:0/task:0/device:TPU:5, TPU, 0, 0)\n"
          ],
          "name": "stdout"
        },
        {
          "output_type": "stream",
          "text": [
            "INFO:tensorflow:*** Available Device: _DeviceAttributes(/job:worker/replica:0/task:0/device:TPU:5, TPU, 0, 0)\n"
          ],
          "name": "stderr"
        },
        {
          "output_type": "stream",
          "text": [
            "INFO:tensorflow:*** Available Device: _DeviceAttributes(/job:worker/replica:0/task:0/device:TPU:6, TPU, 0, 0)\n"
          ],
          "name": "stdout"
        },
        {
          "output_type": "stream",
          "text": [
            "INFO:tensorflow:*** Available Device: _DeviceAttributes(/job:worker/replica:0/task:0/device:TPU:6, TPU, 0, 0)\n"
          ],
          "name": "stderr"
        },
        {
          "output_type": "stream",
          "text": [
            "INFO:tensorflow:*** Available Device: _DeviceAttributes(/job:worker/replica:0/task:0/device:TPU:7, TPU, 0, 0)\n"
          ],
          "name": "stdout"
        },
        {
          "output_type": "stream",
          "text": [
            "INFO:tensorflow:*** Available Device: _DeviceAttributes(/job:worker/replica:0/task:0/device:TPU:7, TPU, 0, 0)\n"
          ],
          "name": "stderr"
        },
        {
          "output_type": "stream",
          "text": [
            "INFO:tensorflow:*** Available Device: _DeviceAttributes(/job:worker/replica:0/task:0/device:TPU_SYSTEM:0, TPU_SYSTEM, 0, 0)\n"
          ],
          "name": "stdout"
        },
        {
          "output_type": "stream",
          "text": [
            "INFO:tensorflow:*** Available Device: _DeviceAttributes(/job:worker/replica:0/task:0/device:TPU_SYSTEM:0, TPU_SYSTEM, 0, 0)\n"
          ],
          "name": "stderr"
        },
        {
          "output_type": "stream",
          "text": [
            "INFO:tensorflow:*** Available Device: _DeviceAttributes(/job:worker/replica:0/task:0/device:XLA_CPU:0, XLA_CPU, 0, 0)\n"
          ],
          "name": "stdout"
        },
        {
          "output_type": "stream",
          "text": [
            "INFO:tensorflow:*** Available Device: _DeviceAttributes(/job:worker/replica:0/task:0/device:XLA_CPU:0, XLA_CPU, 0, 0)\n"
          ],
          "name": "stderr"
        }
      ]
    },
    {
      "cell_type": "code",
      "metadata": {
        "id": "WwssVK8B0aTN",
        "outputId": "4ef830f0-147f-4ace-b7f9-77b2355cf6c2",
        "colab": {
          "base_uri": "https://localhost:8080/"
        }
      },
      "source": [
        "import json \n",
        "config = json.load(open(\"./config.json\"))\n",
        "input_size=config[\"data\"][\"input_size\"]\n",
        "alphabet_size=config[\"data\"][\"alphabet_size\"]\n",
        "embedding_size=config[\"char_cnn_zhang\"][\"embedding_size\"]\n",
        "conv_layers=config[\"char_cnn_zhang\"][\"conv_layers\"]\n",
        "fully_connected_layers=config[\"char_cnn_zhang\"][\"fully_connected_layers\"]\n",
        "num_of_classes=config[\"data\"][\"num_of_classes\"]\n",
        "threshold=config[\"char_cnn_zhang\"][\"threshold\"]\n",
        "dropout_p=config[\"char_cnn_zhang\"][\"dropout_p\"]\n",
        "print(\"Dropout param: \"+str(dropout_p))\n",
        "optimizer=config[\"char_cnn_zhang\"][\"optimizer\"]\n",
        "loss=config[\"char_cnn_zhang\"][\"loss\"]\n",
        "\n"
      ],
      "execution_count": 113,
      "outputs": [
        {
          "output_type": "stream",
          "text": [
            "Dropout param: 0.5\n"
          ],
          "name": "stdout"
        }
      ]
    },
    {
      "cell_type": "code",
      "metadata": {
        "id": "mGeO62Sh2CJN",
        "outputId": "3dd0e615-5dc1-4026-b379-59387c8a9d5e",
        "colab": {
          "base_uri": "https://localhost:8080/"
        }
      },
      "source": [
        "!pip install keras-metrics"
      ],
      "execution_count": 123,
      "outputs": [
        {
          "output_type": "stream",
          "text": [
            "Collecting keras-metrics\n",
            "  Downloading https://files.pythonhosted.org/packages/32/c9/a87420da8e73de944e63a8e9cdcfb1f03ca31a7c4cdcdbd45d2cdf13275a/keras_metrics-1.1.0-py2.py3-none-any.whl\n",
            "Requirement already satisfied: Keras>=2.1.5 in /usr/local/lib/python3.6/dist-packages (from keras-metrics) (2.4.3)\n",
            "Requirement already satisfied: h5py in /usr/local/lib/python3.6/dist-packages (from Keras>=2.1.5->keras-metrics) (2.10.0)\n",
            "Requirement already satisfied: scipy>=0.14 in /usr/local/lib/python3.6/dist-packages (from Keras>=2.1.5->keras-metrics) (1.4.1)\n",
            "Requirement already satisfied: pyyaml in /usr/local/lib/python3.6/dist-packages (from Keras>=2.1.5->keras-metrics) (3.13)\n",
            "Requirement already satisfied: numpy>=1.9.1 in /usr/local/lib/python3.6/dist-packages (from Keras>=2.1.5->keras-metrics) (1.18.5)\n",
            "Requirement already satisfied: six in /usr/local/lib/python3.6/dist-packages (from h5py->Keras>=2.1.5->keras-metrics) (1.15.0)\n",
            "Installing collected packages: keras-metrics\n",
            "Successfully installed keras-metrics-1.1.0\n"
          ],
          "name": "stdout"
        }
      ]
    },
    {
      "cell_type": "code",
      "metadata": {
        "id": "1s4O1Z0fFqhb",
        "outputId": "dbea4ec6-85c3-459c-fa9c-f18db0776fb4",
        "colab": {
          "base_uri": "https://localhost:8080/"
        }
      },
      "source": [
        "from keras import Sequential, Model\n",
        "from keras.layers import Embedding\n",
        "from keras.layers import Input, Dense, Flatten, Bidirectional, LSTM, Convolution1D, ThresholdedReLU, MaxPooling1D, Dropout\n",
        "import keras_metrics\n",
        "\n",
        "input_size = max_address_length\n",
        "alphabet_size = len(alphabet)\n",
        "embedding_size = 128\n",
        "out_dim = 2\n",
        "\n",
        "with tpu_strategy.scope():\n",
        "  inputs = Input(shape=(input_size,), name='sent_input', dtype='int64')      \n",
        "  x = Embedding(alphabet_size + 1, embedding_size, input_length=input_size)(inputs)\n",
        "  for cl in conv_layers:\n",
        "      x = Convolution1D(cl[0], cl[1])(x)\n",
        "      x = ThresholdedReLU(threshold)(x)\n",
        "      if cl[2] != -1:\n",
        "          x = MaxPooling1D(cl[2])(x)\n",
        "  x = Flatten()(x)\n",
        "  for fl in fully_connected_layers:\n",
        "      x = Dense(fl)(x)\n",
        "      x = ThresholdedReLU(threshold)(x)\n",
        "      x = Dropout(dropout_p)(x)\n",
        "          \n",
        "  predictions = Dense(2, activation='linear')(x)\n",
        "  model = Model(inputs=inputs, outputs=predictions)\n",
        "  model.compile(optimizer=optimizer, loss=\"mean_absolute_percentage_error\", metrics=[keras_metrics.precision(), keras_metrics.recall()]) #, metrics=['accuracy'])\n",
        "  print(\"CharCNNZhang model built: \")\n",
        "  model.summary()"
      ],
      "execution_count": 136,
      "outputs": [
        {
          "output_type": "stream",
          "text": [
            "CharCNNZhang model built: \n",
            "Model: \"functional_15\"\n",
            "_________________________________________________________________\n",
            "Layer (type)                 Output Shape              Param #   \n",
            "=================================================================\n",
            "sent_input (InputLayer)      [(None, 200)]             0         \n",
            "_________________________________________________________________\n",
            "embedding_23 (Embedding)     (None, 200, 128)          8960      \n",
            "_________________________________________________________________\n",
            "conv1d_57 (Conv1D)           (None, 194, 256)          229632    \n",
            "_________________________________________________________________\n",
            "thresholded_re_lu_73 (Thresh (None, 194, 256)          0         \n",
            "_________________________________________________________________\n",
            "max_pooling1d_27 (MaxPooling (None, 64, 256)           0         \n",
            "_________________________________________________________________\n",
            "conv1d_58 (Conv1D)           (None, 58, 256)           459008    \n",
            "_________________________________________________________________\n",
            "thresholded_re_lu_74 (Thresh (None, 58, 256)           0         \n",
            "_________________________________________________________________\n",
            "max_pooling1d_28 (MaxPooling (None, 19, 256)           0         \n",
            "_________________________________________________________________\n",
            "conv1d_59 (Conv1D)           (None, 17, 256)           196864    \n",
            "_________________________________________________________________\n",
            "thresholded_re_lu_75 (Thresh (None, 17, 256)           0         \n",
            "_________________________________________________________________\n",
            "conv1d_60 (Conv1D)           (None, 15, 256)           196864    \n",
            "_________________________________________________________________\n",
            "thresholded_re_lu_76 (Thresh (None, 15, 256)           0         \n",
            "_________________________________________________________________\n",
            "conv1d_61 (Conv1D)           (None, 13, 256)           196864    \n",
            "_________________________________________________________________\n",
            "thresholded_re_lu_77 (Thresh (None, 13, 256)           0         \n",
            "_________________________________________________________________\n",
            "conv1d_62 (Conv1D)           (None, 11, 256)           196864    \n",
            "_________________________________________________________________\n",
            "thresholded_re_lu_78 (Thresh (None, 11, 256)           0         \n",
            "_________________________________________________________________\n",
            "max_pooling1d_29 (MaxPooling (None, 3, 256)            0         \n",
            "_________________________________________________________________\n",
            "flatten_9 (Flatten)          (None, 768)               0         \n",
            "_________________________________________________________________\n",
            "dense_62 (Dense)             (None, 1024)              787456    \n",
            "_________________________________________________________________\n",
            "thresholded_re_lu_79 (Thresh (None, 1024)              0         \n",
            "_________________________________________________________________\n",
            "dropout_16 (Dropout)         (None, 1024)              0         \n",
            "_________________________________________________________________\n",
            "dense_63 (Dense)             (None, 1024)              1049600   \n",
            "_________________________________________________________________\n",
            "thresholded_re_lu_80 (Thresh (None, 1024)              0         \n",
            "_________________________________________________________________\n",
            "dropout_17 (Dropout)         (None, 1024)              0         \n",
            "_________________________________________________________________\n",
            "dense_64 (Dense)             (None, 2)                 2050      \n",
            "=================================================================\n",
            "Total params: 3,324,162\n",
            "Trainable params: 3,324,162\n",
            "Non-trainable params: 0\n",
            "_________________________________________________________________\n"
          ],
          "name": "stdout"
        }
      ]
    },
    {
      "cell_type": "code",
      "metadata": {
        "id": "zt0zPMoXFqhp",
        "outputId": "2cf8b847-621c-4886-8337-f51fc532ed4a",
        "colab": {
          "base_uri": "https://localhost:8080/"
        }
      },
      "source": [
        "epochs=config[\"training\"][\"epochs\"]\n",
        "batch_size=config[\"training\"][\"batch_size\"]\n",
        "checkpoint_every=config[\"training\"][\"checkpoint_every\"]\n",
        "    \n",
        "print(\"Training model: \")\n",
        "model.fit(X, Y, epochs=epochs, batch_size=batch_size, callbacks=[])"
      ],
      "execution_count": null,
      "outputs": [
        {
          "output_type": "stream",
          "text": [
            "Training model: \n",
            "Epoch 1/7\n",
            "   1/6898 [..............................] - ETA: 5:01 - loss: 0.1581 - precision: 0.9782 - recall: 1.0000WARNING:tensorflow:Callbacks method `on_train_batch_end` is slow compared to the batch time (batch time: 0.0026s vs `on_train_batch_end` time: 0.0260s). Check your callbacks.\n"
          ],
          "name": "stdout"
        },
        {
          "output_type": "stream",
          "text": [
            "WARNING:tensorflow:Callbacks method `on_train_batch_end` is slow compared to the batch time (batch time: 0.0026s vs `on_train_batch_end` time: 0.0260s). Check your callbacks.\n"
          ],
          "name": "stderr"
        },
        {
          "output_type": "stream",
          "text": [
            "6898/6898 [==============================] - 166s 24ms/step - loss: 0.1743 - precision: 0.9811 - recall: 0.9887\n",
            "Epoch 2/7\n",
            "6898/6898 [==============================] - 168s 24ms/step - loss: 0.1752 - precision: 0.9812 - recall: 0.9891\n",
            "Epoch 3/7\n",
            "6898/6898 [==============================] - 170s 25ms/step - loss: 0.1765 - precision: 0.9799 - recall: 0.9875\n",
            "Epoch 4/7\n",
            "6898/6898 [==============================] - 175s 25ms/step - loss: 0.1774 - precision: 0.9801 - recall: 0.9881\n",
            "Epoch 5/7\n",
            "6898/6898 [==============================] - 175s 25ms/step - loss: 0.1810 - precision: 0.9776 - recall: 0.9872\n",
            "Epoch 6/7\n",
            "6898/6898 [==============================] - 172s 25ms/step - loss: 0.1965 - precision: 0.9695 - recall: 0.9868\n",
            "Epoch 7/7\n",
            " 698/6898 [==>...........................] - ETA: 2:37 - loss: 0.1862 - precision: 0.9755 - recall: 0.9848"
          ],
          "name": "stdout"
        }
      ]
    },
    {
      "cell_type": "code",
      "metadata": {
        "id": "cQoG0iOUQG7w",
        "outputId": "974eb7c9-7419-422d-8df2-3ec64a78e461",
        "colab": {
          "base_uri": "https://localhost:8080/"
        }
      },
      "source": [
        "q = \"0 Chemin des Hautes Varennes 45200\tMontargis\".lower()\n",
        "Q = str_to_indexes(q, max_address_length)\n",
        "print(Q.shape)\n",
        "\n",
        "print(Q)\n",
        "for r in model.predict(np.array([Q])):\n",
        "   print(r)\n",
        "   print_geopoint(r)\n"
      ],
      "execution_count": 147,
      "outputs": [
        {
          "output_type": "stream",
          "text": [
            "(200,)\n",
            "[18  8  6 17  0 19 13 14 12  0 26 26 28 31 30  0 18  4 13 13  4 17  0 21\n",
            "  0 18  4 19 20  0  7  0 18  4  3  0 13  8 12  4  7  2  0 26  0  0  0  0\n",
            "  0  0  0  0  0  0  0  0  0  0  0  0  0  0  0  0  0  0  0  0  0  0  0  0\n",
            "  0  0  0  0  0  0  0  0  0  0  0  0  0  0  0  0  0  0  0  0  0  0  0  0\n",
            "  0  0  0  0  0  0  0  0  0  0  0  0  0  0  0  0  0  0  0  0  0  0  0  0\n",
            "  0  0  0  0  0  0  0  0  0  0  0  0  0  0  0  0  0  0  0  0  0  0  0  0\n",
            "  0  0  0  0  0  0  0  0  0  0  0  0  0  0  0  0  0  0  0  0  0  0  0  0\n",
            "  0  0  0  0  0  0  0  0  0  0  0  0  0  0  0  0  0  0  0  0  0  0  0  0\n",
            "  0  0  0  0  0  0  0  0]\n",
            "[0.5067425 0.7666895]\n",
            "2.4272918701171875 48.004106283187866\n"
          ],
          "name": "stdout"
        }
      ]
    },
    {
      "cell_type": "code",
      "metadata": {
        "id": "_lRVurPPQ63X"
      },
      "source": [
        "def print_geopoint(p):\n",
        "  lon, lat = p\n",
        "  print(lon * 360 - 180, lat * 180 - 90)"
      ],
      "execution_count": 82,
      "outputs": []
    },
    {
      "cell_type": "code",
      "metadata": {
        "id": "yRIt1G5kQwUF",
        "outputId": "8c7c6e98-5b0c-4a2b-9216-88d975db5af1",
        "colab": {
          "base_uri": "https://localhost:8080/"
        }
      },
      "source": [
        "Y[0], print_geopoint(Y[0])"
      ],
      "execution_count": 133,
      "outputs": [
        {
          "output_type": "stream",
          "text": [
            "1.4543855000000008 43.61480230000012\n"
          ],
          "name": "stdout"
        },
        {
          "output_type": "execute_result",
          "data": {
            "text/plain": [
              "(array([0.50403996, 0.74230446]), None)"
            ]
          },
          "metadata": {
            "tags": []
          },
          "execution_count": 133
        }
      ]
    },
    {
      "cell_type": "code",
      "metadata": {
        "id": "Fhq0gk4QUvWb",
        "outputId": "c70a3406-5153-4f02-bbfd-f96462b426f9",
        "colab": {
          "base_uri": "https://localhost:8080/"
        }
      },
      "source": [
        " model.evaluate(X[0:20], Y[0:20], verbose=0)"
      ],
      "execution_count": 109,
      "outputs": [
        {
          "output_type": "stream",
          "text": [
            "WARNING:tensorflow:5 out of the last 2593 calls to <function Model.make_test_function.<locals>.test_function at 0x7f46e1c62ae8> triggered tf.function retracing. Tracing is expensive and the excessive number of tracings could be due to (1) creating @tf.function repeatedly in a loop, (2) passing tensors with different shapes, (3) passing Python objects instead of tensors. For (1), please define your @tf.function outside of the loop. For (2), @tf.function has experimental_relax_shapes=True option that relaxes argument shapes that can avoid unnecessary retracing. For (3), please refer to https://www.tensorflow.org/tutorials/customization/performance#python_or_tensor_args and https://www.tensorflow.org/api_docs/python/tf/function for  more details.\n"
          ],
          "name": "stdout"
        },
        {
          "output_type": "stream",
          "text": [
            "WARNING:tensorflow:5 out of the last 2593 calls to <function Model.make_test_function.<locals>.test_function at 0x7f46e1c62ae8> triggered tf.function retracing. Tracing is expensive and the excessive number of tracings could be due to (1) creating @tf.function repeatedly in a loop, (2) passing tensors with different shapes, (3) passing Python objects instead of tensors. For (1), please define your @tf.function outside of the loop. For (2), @tf.function has experimental_relax_shapes=True option that relaxes argument shapes that can avoid unnecessary retracing. For (3), please refer to https://www.tensorflow.org/tutorials/customization/performance#python_or_tensor_args and https://www.tensorflow.org/api_docs/python/tf/function for  more details.\n"
          ],
          "name": "stderr"
        },
        {
          "output_type": "execute_result",
          "data": {
            "text/plain": [
              "0.28922078013420105"
            ]
          },
          "metadata": {
            "tags": []
          },
          "execution_count": 109
        }
      ]
    }
  ]
}