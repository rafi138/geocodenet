{
  "nbformat": 4,
  "nbformat_minor": 0,
  "metadata": {
    "accelerator": "TPU",
    "colab": {
      "name": "Copie de geocodenet.ipynb",
      "provenance": [],
      "collapsed_sections": [],
      "include_colab_link": true
    },
    "kernelspec": {
      "display_name": "Python 3",
      "language": "python",
      "name": "python3"
    },
    "language_info": {
      "codemirror_mode": {
        "name": "ipython",
        "version": 3
      },
      "file_extension": ".py",
      "mimetype": "text/x-python",
      "name": "python",
      "nbconvert_exporter": "python",
      "pygments_lexer": "ipython3",
      "version": "3.8.6"
    }
  },
  "cells": [
    {
      "cell_type": "markdown",
      "metadata": {
        "id": "view-in-github",
        "colab_type": "text"
      },
      "source": [
        "<a href=\"https://colab.research.google.com/github/scampion/geocodenet/blob/main/geocodenet.ipynb\" target=\"_parent\"><img src=\"https://colab.research.google.com/assets/colab-badge.svg\" alt=\"Open In Colab\"/></a>"
      ]
    },
    {
      "cell_type": "code",
      "metadata": {
        "id": "h6qz-pCRYKy_",
        "outputId": "19348b5c-b4d9-4c0f-e85d-85e9a64b67a1",
        "colab": {
          "base_uri": "https://localhost:8080/"
        }
      },
      "source": [
        "!pip3 install keras-metrics"
      ],
      "execution_count": 1,
      "outputs": [
        {
          "output_type": "stream",
          "text": [
            "Collecting keras-metrics\n",
            "  Downloading https://files.pythonhosted.org/packages/32/c9/a87420da8e73de944e63a8e9cdcfb1f03ca31a7c4cdcdbd45d2cdf13275a/keras_metrics-1.1.0-py2.py3-none-any.whl\n",
            "Requirement already satisfied: Keras>=2.1.5 in /usr/local/lib/python3.6/dist-packages (from keras-metrics) (2.4.3)\n",
            "Requirement already satisfied: pyyaml in /usr/local/lib/python3.6/dist-packages (from Keras>=2.1.5->keras-metrics) (3.13)\n",
            "Requirement already satisfied: h5py in /usr/local/lib/python3.6/dist-packages (from Keras>=2.1.5->keras-metrics) (2.10.0)\n",
            "Requirement already satisfied: scipy>=0.14 in /usr/local/lib/python3.6/dist-packages (from Keras>=2.1.5->keras-metrics) (1.4.1)\n",
            "Requirement already satisfied: numpy>=1.9.1 in /usr/local/lib/python3.6/dist-packages (from Keras>=2.1.5->keras-metrics) (1.18.5)\n",
            "Requirement already satisfied: six in /usr/local/lib/python3.6/dist-packages (from h5py->Keras>=2.1.5->keras-metrics) (1.15.0)\n",
            "Installing collected packages: keras-metrics\n",
            "Successfully installed keras-metrics-1.1.0\n"
          ],
          "name": "stdout"
        }
      ]
    },
    {
      "cell_type": "markdown",
      "metadata": {
        "id": "QcaLtjerYKzH"
      },
      "source": [
        "## Load and prepare data\n",
        "\n",
        "CSV sample : `lat, lon, postcode, city, street, number`\n",
        "\n",
        "    38,0.49830201027777776,0.7682701011111116,53100,Mayenne,Rue de la Peyennière,0\n",
        "    39,0.49830201027777776,0.7682701011111116,53100,Mayenne,,\n",
        "    46,0.5165364863888888,0.7531874688888894,73230,Saint-Alban-Leysse,,\n",
        "    47,0.504549603611111,0.7787510938888894,80230,Saint-Valery-sur-Somme,Route du Tréport,0\n"
      ]
    },
    {
      "cell_type": "code",
      "metadata": {
        "id": "5gc_vPX5G69m",
        "outputId": "022733b0-817a-4db9-884f-b65810ff3352",
        "colab": {
          "base_uri": "https://localhost:8080/"
        }
      },
      "source": [
        "if 'google.colab' in str(get_ipython()):\n",
        "    from google.colab import drive\n",
        "    drive.mount('/content/drive')\n",
        "    csv_filepath = \"/content/drive/My Drive/data/geocodenet/france.csv\"\n",
        "else: \n",
        "    csv_filepath = \"france.csv\""
      ],
      "execution_count": 6,
      "outputs": [
        {
          "output_type": "stream",
          "text": [
            "Drive already mounted at /content/drive; to attempt to forcibly remount, call drive.mount(\"/content/drive\", force_remount=True).\n"
          ],
          "name": "stdout"
        }
      ]
    },
    {
      "cell_type": "code",
      "metadata": {
        "id": "od13u8PNFqgX",
        "outputId": "9f799eb5-0649-4398-906a-cf1e7e816235",
        "colab": {
          "base_uri": "https://localhost:8080/",
          "height": 204
        }
      },
      "source": [
        "import numpy as np\n",
        "import pandas as pd\n",
        "df = pd.read_csv(csv_filepath)\n",
        "df.fillna('', inplace=True)\n",
        "for c in ['number', 'street', 'postalcode', 'city']:    \n",
        "    df[c].astype(object).replace(np.nan, 'None')\n",
        "df['address'] = (df['number'] + \" \" + df['street'] + \" \" + df['postalcode'] + \" \" + df['city'])\n",
        "for c in ['number', 'street', 'postalcode', 'city', 'Unnamed: 0']:\n",
        "    del df[c]\n",
        "df.head()"
      ],
      "execution_count": 3,
      "outputs": [
        {
          "output_type": "execute_result",
          "data": {
            "text/html": [
              "<div>\n",
              "<style scoped>\n",
              "    .dataframe tbody tr th:only-of-type {\n",
              "        vertical-align: middle;\n",
              "    }\n",
              "\n",
              "    .dataframe tbody tr th {\n",
              "        vertical-align: top;\n",
              "    }\n",
              "\n",
              "    .dataframe thead th {\n",
              "        text-align: right;\n",
              "    }\n",
              "</style>\n",
              "<table border=\"1\" class=\"dataframe\">\n",
              "  <thead>\n",
              "    <tr style=\"text-align: right;\">\n",
              "      <th></th>\n",
              "      <th>long</th>\n",
              "      <th>lat</th>\n",
              "      <th>address</th>\n",
              "    </tr>\n",
              "  </thead>\n",
              "  <tbody>\n",
              "    <tr>\n",
              "      <th>0</th>\n",
              "      <td>0.504040</td>\n",
              "      <td>0.742304</td>\n",
              "      <td>31500 Toulouse</td>\n",
              "    </tr>\n",
              "    <tr>\n",
              "      <th>1</th>\n",
              "      <td>0.490218</td>\n",
              "      <td>0.770736</td>\n",
              "      <td>0 Chemin de Halage 22300 Lannion</td>\n",
              "    </tr>\n",
              "    <tr>\n",
              "      <th>2</th>\n",
              "      <td>0.490218</td>\n",
              "      <td>0.770736</td>\n",
              "      <td>22300 Lannion</td>\n",
              "    </tr>\n",
              "    <tr>\n",
              "      <th>3</th>\n",
              "      <td>0.506738</td>\n",
              "      <td>0.771838</td>\n",
              "      <td>0 Place des Déportés 93350 Le Bourget</td>\n",
              "    </tr>\n",
              "    <tr>\n",
              "      <th>4</th>\n",
              "      <td>0.506738</td>\n",
              "      <td>0.771838</td>\n",
              "      <td>93350 Le Bourget</td>\n",
              "    </tr>\n",
              "  </tbody>\n",
              "</table>\n",
              "</div>"
            ],
            "text/plain": [
              "       long       lat                                address\n",
              "0  0.504040  0.742304                         31500 Toulouse\n",
              "1  0.490218  0.770736       0 Chemin de Halage 22300 Lannion\n",
              "2  0.490218  0.770736                          22300 Lannion\n",
              "3  0.506738  0.771838  0 Place des Déportés 93350 Le Bourget\n",
              "4  0.506738  0.771838                       93350 Le Bourget"
            ]
          },
          "metadata": {
            "tags": []
          },
          "execution_count": 3
        }
      ]
    },
    {
      "cell_type": "markdown",
      "metadata": {
        "id": "d4f67PgjYKzQ"
      },
      "source": [
        "## Load variables"
      ]
    },
    {
      "cell_type": "code",
      "metadata": {
        "id": "CnHb1yUzFqg0"
      },
      "source": [
        "import json \n",
        "if 'google.colab' in str(get_ipython()):\n",
        "    from google.colab import drive\n",
        "    config = json.load(open(\"/content/drive/My Drive/src/geocodenet/config.json\"))\n",
        "else: \n",
        "    config = json.load(open(\"./config.json\"))\n",
        "\n",
        "\n",
        "max_address_length = config[\"data\"][\"input_size\"]\n",
        "alphabet=config[\"data\"][\"alphabet\"]\n",
        "alphabet_size = len(alphabet)"
      ],
      "execution_count": 9,
      "outputs": []
    },
    {
      "cell_type": "markdown",
      "metadata": {
        "id": "MZKgXSzSYKzU"
      },
      "source": [
        "## Encode address\n",
        "\n",
        "A short example: \n",
        "\n",
        "    \"12 abc\" > [28, 29, 0, 1, 2, 3]"
      ]
    },
    {
      "cell_type": "code",
      "metadata": {
        "id": "AM-AFwAYFqg6"
      },
      "source": [
        "def str_to_indexes(s, max_length):\n",
        "    s = s.lower()\n",
        "    str2idx = np.zeros(max_length, dtype='int32')\n",
        "    for i in range(min(len(s), max_length)): \n",
        "        if s[i] in alphabet:\n",
        "            str2idx[i] = alphabet.index(s[i]) + 1              \n",
        "    return str2idx\n",
        "df['address_encoded'] = df['address'].apply(str_to_indexes, max_length=max_address_length)\n",
        "\n",
        "# Convert to numpy \n",
        "nbobs = len(df['address_encoded'])\n",
        "X = np.concatenate(df['address_encoded'].to_numpy()).ravel()\n",
        "X = X.reshape(nbobs, max_address_length)\n",
        "Y = np.concatenate(df[['long', 'lat']].to_numpy()).ravel()\n",
        "Y = Y.reshape(nbobs, 2)"
      ],
      "execution_count": 16,
      "outputs": []
    },
    {
      "cell_type": "markdown",
      "metadata": {
        "id": "QYRieNeNYKzX"
      },
      "source": [
        "## TPU management \n",
        "\n",
        "Using Colab from Google, you can use TPU to speed up the computing task"
      ]
    },
    {
      "cell_type": "code",
      "metadata": {
        "id": "XjkKSYBGI2wL",
        "outputId": "d942a931-3eb9-4dd4-c955-83f33f5f1620",
        "colab": {
          "base_uri": "https://localhost:8080/"
        }
      },
      "source": [
        "import tensorflow as tf\n",
        "import os \n",
        "\n",
        "tpu_strategy = None\n",
        "try:\n",
        "    device_name = os.environ['COLAB_TPU_ADDR']\n",
        "    tpu_address = 'grpc://' + device_name\n",
        "    print('Found TPU at: {}'.format(tpu_address))\n",
        "    cluster_resolver = tf.distribute.cluster_resolver.TPUClusterResolver(tpu=tpu_address)\n",
        "    tf.config.experimental_connect_to_cluster(cluster_resolver)\n",
        "    tf.tpu.experimental.initialize_tpu_system(cluster_resolver)\n",
        "    tpu_strategy = tf.distribute.TPUStrategy(cluster_resolver)\n",
        "except KeyError:\n",
        " print('TPU not found')"
      ],
      "execution_count": 17,
      "outputs": [
        {
          "output_type": "stream",
          "text": [
            "Found TPU at: grpc://10.49.210.90:8470\n",
            "WARNING:tensorflow:TPU system grpc://10.49.210.90:8470 has already been initialized. Reinitializing the TPU can cause previously created variables on TPU to be lost.\n"
          ],
          "name": "stdout"
        },
        {
          "output_type": "stream",
          "text": [
            "WARNING:tensorflow:TPU system grpc://10.49.210.90:8470 has already been initialized. Reinitializing the TPU can cause previously created variables on TPU to be lost.\n"
          ],
          "name": "stderr"
        },
        {
          "output_type": "stream",
          "text": [
            "INFO:tensorflow:Initializing the TPU system: grpc://10.49.210.90:8470\n"
          ],
          "name": "stdout"
        },
        {
          "output_type": "stream",
          "text": [
            "INFO:tensorflow:Initializing the TPU system: grpc://10.49.210.90:8470\n"
          ],
          "name": "stderr"
        },
        {
          "output_type": "stream",
          "text": [
            "INFO:tensorflow:Clearing out eager caches\n"
          ],
          "name": "stdout"
        },
        {
          "output_type": "stream",
          "text": [
            "INFO:tensorflow:Clearing out eager caches\n"
          ],
          "name": "stderr"
        },
        {
          "output_type": "stream",
          "text": [
            "INFO:tensorflow:Finished initializing TPU system.\n"
          ],
          "name": "stdout"
        },
        {
          "output_type": "stream",
          "text": [
            "INFO:tensorflow:Finished initializing TPU system.\n"
          ],
          "name": "stderr"
        },
        {
          "output_type": "stream",
          "text": [
            "INFO:tensorflow:Found TPU system:\n"
          ],
          "name": "stdout"
        },
        {
          "output_type": "stream",
          "text": [
            "INFO:tensorflow:Found TPU system:\n"
          ],
          "name": "stderr"
        },
        {
          "output_type": "stream",
          "text": [
            "INFO:tensorflow:*** Num TPU Cores: 8\n"
          ],
          "name": "stdout"
        },
        {
          "output_type": "stream",
          "text": [
            "INFO:tensorflow:*** Num TPU Cores: 8\n"
          ],
          "name": "stderr"
        },
        {
          "output_type": "stream",
          "text": [
            "INFO:tensorflow:*** Num TPU Workers: 1\n"
          ],
          "name": "stdout"
        },
        {
          "output_type": "stream",
          "text": [
            "INFO:tensorflow:*** Num TPU Workers: 1\n"
          ],
          "name": "stderr"
        },
        {
          "output_type": "stream",
          "text": [
            "INFO:tensorflow:*** Num TPU Cores Per Worker: 8\n"
          ],
          "name": "stdout"
        },
        {
          "output_type": "stream",
          "text": [
            "INFO:tensorflow:*** Num TPU Cores Per Worker: 8\n"
          ],
          "name": "stderr"
        },
        {
          "output_type": "stream",
          "text": [
            "INFO:tensorflow:*** Available Device: _DeviceAttributes(/job:localhost/replica:0/task:0/device:CPU:0, CPU, 0, 0)\n"
          ],
          "name": "stdout"
        },
        {
          "output_type": "stream",
          "text": [
            "INFO:tensorflow:*** Available Device: _DeviceAttributes(/job:localhost/replica:0/task:0/device:CPU:0, CPU, 0, 0)\n"
          ],
          "name": "stderr"
        },
        {
          "output_type": "stream",
          "text": [
            "INFO:tensorflow:*** Available Device: _DeviceAttributes(/job:localhost/replica:0/task:0/device:XLA_CPU:0, XLA_CPU, 0, 0)\n"
          ],
          "name": "stdout"
        },
        {
          "output_type": "stream",
          "text": [
            "INFO:tensorflow:*** Available Device: _DeviceAttributes(/job:localhost/replica:0/task:0/device:XLA_CPU:0, XLA_CPU, 0, 0)\n"
          ],
          "name": "stderr"
        },
        {
          "output_type": "stream",
          "text": [
            "INFO:tensorflow:*** Available Device: _DeviceAttributes(/job:worker/replica:0/task:0/device:CPU:0, CPU, 0, 0)\n"
          ],
          "name": "stdout"
        },
        {
          "output_type": "stream",
          "text": [
            "INFO:tensorflow:*** Available Device: _DeviceAttributes(/job:worker/replica:0/task:0/device:CPU:0, CPU, 0, 0)\n"
          ],
          "name": "stderr"
        },
        {
          "output_type": "stream",
          "text": [
            "INFO:tensorflow:*** Available Device: _DeviceAttributes(/job:worker/replica:0/task:0/device:TPU:0, TPU, 0, 0)\n"
          ],
          "name": "stdout"
        },
        {
          "output_type": "stream",
          "text": [
            "INFO:tensorflow:*** Available Device: _DeviceAttributes(/job:worker/replica:0/task:0/device:TPU:0, TPU, 0, 0)\n"
          ],
          "name": "stderr"
        },
        {
          "output_type": "stream",
          "text": [
            "INFO:tensorflow:*** Available Device: _DeviceAttributes(/job:worker/replica:0/task:0/device:TPU:1, TPU, 0, 0)\n"
          ],
          "name": "stdout"
        },
        {
          "output_type": "stream",
          "text": [
            "INFO:tensorflow:*** Available Device: _DeviceAttributes(/job:worker/replica:0/task:0/device:TPU:1, TPU, 0, 0)\n"
          ],
          "name": "stderr"
        },
        {
          "output_type": "stream",
          "text": [
            "INFO:tensorflow:*** Available Device: _DeviceAttributes(/job:worker/replica:0/task:0/device:TPU:2, TPU, 0, 0)\n"
          ],
          "name": "stdout"
        },
        {
          "output_type": "stream",
          "text": [
            "INFO:tensorflow:*** Available Device: _DeviceAttributes(/job:worker/replica:0/task:0/device:TPU:2, TPU, 0, 0)\n"
          ],
          "name": "stderr"
        },
        {
          "output_type": "stream",
          "text": [
            "INFO:tensorflow:*** Available Device: _DeviceAttributes(/job:worker/replica:0/task:0/device:TPU:3, TPU, 0, 0)\n"
          ],
          "name": "stdout"
        },
        {
          "output_type": "stream",
          "text": [
            "INFO:tensorflow:*** Available Device: _DeviceAttributes(/job:worker/replica:0/task:0/device:TPU:3, TPU, 0, 0)\n"
          ],
          "name": "stderr"
        },
        {
          "output_type": "stream",
          "text": [
            "INFO:tensorflow:*** Available Device: _DeviceAttributes(/job:worker/replica:0/task:0/device:TPU:4, TPU, 0, 0)\n"
          ],
          "name": "stdout"
        },
        {
          "output_type": "stream",
          "text": [
            "INFO:tensorflow:*** Available Device: _DeviceAttributes(/job:worker/replica:0/task:0/device:TPU:4, TPU, 0, 0)\n"
          ],
          "name": "stderr"
        },
        {
          "output_type": "stream",
          "text": [
            "INFO:tensorflow:*** Available Device: _DeviceAttributes(/job:worker/replica:0/task:0/device:TPU:5, TPU, 0, 0)\n"
          ],
          "name": "stdout"
        },
        {
          "output_type": "stream",
          "text": [
            "INFO:tensorflow:*** Available Device: _DeviceAttributes(/job:worker/replica:0/task:0/device:TPU:5, TPU, 0, 0)\n"
          ],
          "name": "stderr"
        },
        {
          "output_type": "stream",
          "text": [
            "INFO:tensorflow:*** Available Device: _DeviceAttributes(/job:worker/replica:0/task:0/device:TPU:6, TPU, 0, 0)\n"
          ],
          "name": "stdout"
        },
        {
          "output_type": "stream",
          "text": [
            "INFO:tensorflow:*** Available Device: _DeviceAttributes(/job:worker/replica:0/task:0/device:TPU:6, TPU, 0, 0)\n"
          ],
          "name": "stderr"
        },
        {
          "output_type": "stream",
          "text": [
            "INFO:tensorflow:*** Available Device: _DeviceAttributes(/job:worker/replica:0/task:0/device:TPU:7, TPU, 0, 0)\n"
          ],
          "name": "stdout"
        },
        {
          "output_type": "stream",
          "text": [
            "INFO:tensorflow:*** Available Device: _DeviceAttributes(/job:worker/replica:0/task:0/device:TPU:7, TPU, 0, 0)\n"
          ],
          "name": "stderr"
        },
        {
          "output_type": "stream",
          "text": [
            "INFO:tensorflow:*** Available Device: _DeviceAttributes(/job:worker/replica:0/task:0/device:TPU_SYSTEM:0, TPU_SYSTEM, 0, 0)\n"
          ],
          "name": "stdout"
        },
        {
          "output_type": "stream",
          "text": [
            "INFO:tensorflow:*** Available Device: _DeviceAttributes(/job:worker/replica:0/task:0/device:TPU_SYSTEM:0, TPU_SYSTEM, 0, 0)\n"
          ],
          "name": "stderr"
        },
        {
          "output_type": "stream",
          "text": [
            "INFO:tensorflow:*** Available Device: _DeviceAttributes(/job:worker/replica:0/task:0/device:XLA_CPU:0, XLA_CPU, 0, 0)\n"
          ],
          "name": "stdout"
        },
        {
          "output_type": "stream",
          "text": [
            "INFO:tensorflow:*** Available Device: _DeviceAttributes(/job:worker/replica:0/task:0/device:XLA_CPU:0, XLA_CPU, 0, 0)\n"
          ],
          "name": "stderr"
        }
      ]
    },
    {
      "cell_type": "markdown",
      "metadata": {
        "id": "zMPXBn_wYKza"
      },
      "source": [
        "## NN"
      ]
    },
    {
      "cell_type": "code",
      "metadata": {
        "id": "1s4O1Z0fFqhb",
        "outputId": "aeba793a-1977-413a-d8d1-8fd53d4fb6e2",
        "colab": {
          "base_uri": "https://localhost:8080/"
        }
      },
      "source": [
        "from keras import Sequential, Model\n",
        "from keras.layers import Embedding\n",
        "from keras.layers import Input, Dense, Flatten, Bidirectional, LSTM, Convolution1D, ThresholdedReLU, MaxPooling1D, Dropout\n",
        "import keras_metrics\n",
        "\n",
        "input_size = max_address_length\n",
        "embedding_size = 128\n",
        "out_dim = 2\n",
        "embedding_size=config[\"char_cnn_zhang\"][\"embedding_size\"]\n",
        "conv_layers=config[\"char_cnn_zhang\"][\"conv_layers\"]\n",
        "fully_connected_layers=config[\"char_cnn_zhang\"][\"fully_connected_layers\"]\n",
        "threshold=config[\"char_cnn_zhang\"][\"threshold\"]\n",
        "dropout_p=config[\"char_cnn_zhang\"][\"dropout_p\"]\n",
        "optimizer=config[\"char_cnn_zhang\"][\"optimizer\"]\n",
        "loss=config[\"char_cnn_zhang\"][\"loss\"]\n",
        "\n",
        "def build_model():\n",
        "    inputs = Input(shape=(input_size,), name='sent_input', dtype='int64')      \n",
        "    x = Embedding(alphabet_size + 1, embedding_size, input_length=input_size)(inputs)\n",
        "    for cl in conv_layers:\n",
        "      x = Convolution1D(cl[0], cl[1])(x)\n",
        "      x = ThresholdedReLU(threshold)(x)\n",
        "      if cl[2] != -1:\n",
        "          x = MaxPooling1D(cl[2])(x)\n",
        "    x = Flatten()(x)\n",
        "    for fl in fully_connected_layers:\n",
        "      x = Dense(fl)(x)\n",
        "      x = ThresholdedReLU(threshold)(x)\n",
        "      x = Dropout(dropout_p)(x)\n",
        "\n",
        "    predictions = Dense(2, activation='linear')(x)\n",
        "    model = Model(name=\"geocodenet\", inputs=inputs, outputs=predictions)\n",
        "    model.compile(optimizer=optimizer, loss=loss, \n",
        "                metrics=[keras_metrics.precision(), keras_metrics.recall()])\n",
        "    model.summary()\n",
        "    return model\n",
        "    \n",
        "if tpu_strategy:\n",
        "    with tpu_strategy.scope():\n",
        "        model = build_model()\n",
        "else:\n",
        "    model = build_model()    "
      ],
      "execution_count": 18,
      "outputs": [
        {
          "output_type": "stream",
          "text": [
            "Model: \"geocodenet\"\n",
            "_________________________________________________________________\n",
            "Layer (type)                 Output Shape              Param #   \n",
            "=================================================================\n",
            "sent_input (InputLayer)      [(None, 200)]             0         \n",
            "_________________________________________________________________\n",
            "embedding_2 (Embedding)      (None, 200, 128)          8960      \n",
            "_________________________________________________________________\n",
            "conv1d_12 (Conv1D)           (None, 194, 256)          229632    \n",
            "_________________________________________________________________\n",
            "thresholded_re_lu_16 (Thresh (None, 194, 256)          0         \n",
            "_________________________________________________________________\n",
            "max_pooling1d_6 (MaxPooling1 (None, 64, 256)           0         \n",
            "_________________________________________________________________\n",
            "conv1d_13 (Conv1D)           (None, 58, 256)           459008    \n",
            "_________________________________________________________________\n",
            "thresholded_re_lu_17 (Thresh (None, 58, 256)           0         \n",
            "_________________________________________________________________\n",
            "max_pooling1d_7 (MaxPooling1 (None, 19, 256)           0         \n",
            "_________________________________________________________________\n",
            "conv1d_14 (Conv1D)           (None, 17, 256)           196864    \n",
            "_________________________________________________________________\n",
            "thresholded_re_lu_18 (Thresh (None, 17, 256)           0         \n",
            "_________________________________________________________________\n",
            "conv1d_15 (Conv1D)           (None, 15, 256)           196864    \n",
            "_________________________________________________________________\n",
            "thresholded_re_lu_19 (Thresh (None, 15, 256)           0         \n",
            "_________________________________________________________________\n",
            "conv1d_16 (Conv1D)           (None, 13, 256)           196864    \n",
            "_________________________________________________________________\n",
            "thresholded_re_lu_20 (Thresh (None, 13, 256)           0         \n",
            "_________________________________________________________________\n",
            "conv1d_17 (Conv1D)           (None, 11, 256)           196864    \n",
            "_________________________________________________________________\n",
            "thresholded_re_lu_21 (Thresh (None, 11, 256)           0         \n",
            "_________________________________________________________________\n",
            "max_pooling1d_8 (MaxPooling1 (None, 3, 256)            0         \n",
            "_________________________________________________________________\n",
            "flatten_2 (Flatten)          (None, 768)               0         \n",
            "_________________________________________________________________\n",
            "dense_6 (Dense)              (None, 1024)              787456    \n",
            "_________________________________________________________________\n",
            "thresholded_re_lu_22 (Thresh (None, 1024)              0         \n",
            "_________________________________________________________________\n",
            "dropout_4 (Dropout)          (None, 1024)              0         \n",
            "_________________________________________________________________\n",
            "dense_7 (Dense)              (None, 1024)              1049600   \n",
            "_________________________________________________________________\n",
            "thresholded_re_lu_23 (Thresh (None, 1024)              0         \n",
            "_________________________________________________________________\n",
            "dropout_5 (Dropout)          (None, 1024)              0         \n",
            "_________________________________________________________________\n",
            "dense_8 (Dense)              (None, 2)                 2050      \n",
            "=================================================================\n",
            "Total params: 3,324,162\n",
            "Trainable params: 3,324,162\n",
            "Non-trainable params: 0\n",
            "_________________________________________________________________\n"
          ],
          "name": "stdout"
        }
      ]
    },
    {
      "cell_type": "markdown",
      "metadata": {
        "id": "KcCA4mgWYKze"
      },
      "source": [
        "## Train the model"
      ]
    },
    {
      "cell_type": "code",
      "metadata": {
        "id": "zt0zPMoXFqhp",
        "outputId": "d090f024-764a-41e8-d61c-5b59132ca4d5",
        "colab": {
          "base_uri": "https://localhost:8080/"
        }
      },
      "source": [
        "epochs=config[\"training\"][\"epochs\"]\n",
        "batch_size=config[\"training\"][\"batch_size\"]\n",
        "checkpoint_every=config[\"training\"][\"checkpoint_every\"]\n",
        "    \n",
        "print(\"Training model: \")\n",
        "model.fit(X, Y, epochs=epochs, batch_size=batch_size, callbacks=[])"
      ],
      "execution_count": 19,
      "outputs": [
        {
          "output_type": "stream",
          "text": [
            "Training model: \n",
            "Epoch 1/7\n",
            "WARNING:tensorflow:From /usr/local/lib/python3.6/dist-packages/tensorflow/python/data/ops/multi_device_iterator_ops.py:601: get_next_as_optional (from tensorflow.python.data.ops.iterator_ops) is deprecated and will be removed in a future version.\n",
            "Instructions for updating:\n",
            "Use `tf.data.Iterator.get_next_as_optional()` instead.\n"
          ],
          "name": "stdout"
        },
        {
          "output_type": "stream",
          "text": [
            "WARNING:tensorflow:From /usr/local/lib/python3.6/dist-packages/tensorflow/python/data/ops/multi_device_iterator_ops.py:601: get_next_as_optional (from tensorflow.python.data.ops.iterator_ops) is deprecated and will be removed in a future version.\n",
            "Instructions for updating:\n",
            "Use `tf.data.Iterator.get_next_as_optional()` instead.\n",
            "Exception ignored in: <bound method IteratorResourceDeleter.__del__ of <tensorflow.python.data.ops.iterator_ops.IteratorResourceDeleter object at 0x7fa2e1760b70>>\n",
            "Traceback (most recent call last):\n",
            "  File \"/usr/local/lib/python3.6/dist-packages/tensorflow/python/data/ops/iterator_ops.py\", line 537, in __del__\n",
            "    handle=self._handle, deleter=self._deleter)\n",
            "  File \"/usr/local/lib/python3.6/dist-packages/tensorflow/python/ops/gen_dataset_ops.py\", line 1282, in delete_iterator\n",
            "    _ops.raise_from_not_ok_status(e, name)\n",
            "  File \"/usr/local/lib/python3.6/dist-packages/tensorflow/python/framework/ops.py\", line 6843, in raise_from_not_ok_status\n",
            "    six.raise_from(core._status_to_exception(e.code, message), None)\n",
            "  File \"<string>\", line 3, in raise_from\n",
            "tensorflow.python.framework.errors_impl.NotFoundError: No registered 'Identity' OpKernel for 'TPU' devices compatible with node {{node Identity}}\n",
            "\t (OpKernel was found, but attributes didn't match) Requested Attributes: T=DT_INT8\n",
            "\t.  Registered:  device='XLA_GPU_JIT'; T in [DT_FLOAT, DT_DOUBLE, DT_INT32, DT_UINT8, DT_INT16, ..., DT_HALF, DT_UINT32, DT_UINT64, DT_RESOURCE, DT_VARIANT]\n",
            "  device='XLA_CPU_JIT'; T in [DT_FLOAT, DT_DOUBLE, DT_INT32, DT_UINT8, DT_INT16, ..., DT_HALF, DT_UINT32, DT_UINT64, DT_RESOURCE, DT_VARIANT]\n",
            "  device='XLA_TPU_JIT'; T in [DT_FLOAT, DT_DOUBLE, DT_INT32, DT_COMPLEX64, DT_INT64, DT_BOOL, DT_QINT8, DT_QUINT8, DT_BFLOAT16, DT_UINT32, DT_UINT64, DT_RESOURCE, DT_VARIANT]\n",
            "  device='XLA_CPU'; T in [DT_UINT8, DT_QUINT8, DT_UINT16, DT_INT8, DT_QINT8, ..., DT_DOUBLE, DT_COMPLEX64, DT_COMPLEX128, DT_BOOL, DT_BFLOAT16]\n",
            "  device='TPU'; T in [DT_INT32, DT_UINT32, DT_BFLOAT16, DT_FLOAT, DT_DOUBLE, DT_BOOL, DT_COMPLEX64, DT_INT64, DT_UINT64, DT_QINT8, DT_QUINT8]\n",
            "  device='TPU_SYSTEM'\n",
            "  device='GPU'; T in [DT_HALF]\n",
            "  device='GPU'; T in [DT_BFLOAT16]\n",
            "  device='GPU'; T in [DT_FLOAT]\n",
            "  device='GPU'; T in [DT_DOUBLE]\n",
            "  device='GPU'; T in [DT_INT64]\n",
            "  device='GPU'; T in [DT_UINT16]\n",
            "  device='GPU'; T in [DT_INT16]\n",
            "  device='GPU'; T in [DT_UINT8]\n",
            "  device='GPU'; T in [DT_INT8]\n",
            "  device='GPU'; T in [DT_COMPLEX64]\n",
            "  device='GPU'; T in [DT_COMPLEX128]\n",
            "  device='GPU'; T in [DT_VARIANT]\n",
            "  device='GPU'; T in [DT_UINT32]\n",
            "  device='GPU'; T in [DT_BOOL]\n",
            "  device='DEFAULT'; T in [DT_STRING]\n",
            "  device='DEFAULT'; T in [DT_VARIANT]\n",
            "  device='DEFAULT'; T in [DT_RESOURCE]\n",
            "  device='CPU'\n",
            "\n",
            "\t [[Identity]] [Op:DeleteIterator]\n",
            "Exception ignored in: <bound method IteratorResourceDeleter.__del__ of <tensorflow.python.data.ops.iterator_ops.IteratorResourceDeleter object at 0x7fa2e17568d0>>\n",
            "Traceback (most recent call last):\n",
            "  File \"/usr/local/lib/python3.6/dist-packages/tensorflow/python/data/ops/iterator_ops.py\", line 537, in __del__\n",
            "    handle=self._handle, deleter=self._deleter)\n",
            "  File \"/usr/local/lib/python3.6/dist-packages/tensorflow/python/ops/gen_dataset_ops.py\", line 1282, in delete_iterator\n",
            "    _ops.raise_from_not_ok_status(e, name)\n",
            "  File \"/usr/local/lib/python3.6/dist-packages/tensorflow/python/framework/ops.py\", line 6843, in raise_from_not_ok_status\n",
            "    six.raise_from(core._status_to_exception(e.code, message), None)\n",
            "  File \"<string>\", line 3, in raise_from\n",
            "tensorflow.python.framework.errors_impl.NotFoundError: No registered 'Identity' OpKernel for 'TPU' devices compatible with node {{node Identity}}\n",
            "\t (OpKernel was found, but attributes didn't match) Requested Attributes: T=DT_INT8\n",
            "\t.  Registered:  device='XLA_GPU_JIT'; T in [DT_FLOAT, DT_DOUBLE, DT_INT32, DT_UINT8, DT_INT16, ..., DT_HALF, DT_UINT32, DT_UINT64, DT_RESOURCE, DT_VARIANT]\n",
            "  device='XLA_CPU_JIT'; T in [DT_FLOAT, DT_DOUBLE, DT_INT32, DT_UINT8, DT_INT16, ..., DT_HALF, DT_UINT32, DT_UINT64, DT_RESOURCE, DT_VARIANT]\n",
            "  device='XLA_TPU_JIT'; T in [DT_FLOAT, DT_DOUBLE, DT_INT32, DT_COMPLEX64, DT_INT64, DT_BOOL, DT_QINT8, DT_QUINT8, DT_BFLOAT16, DT_UINT32, DT_UINT64, DT_RESOURCE, DT_VARIANT]\n",
            "  device='XLA_CPU'; T in [DT_UINT8, DT_QUINT8, DT_UINT16, DT_INT8, DT_QINT8, ..., DT_DOUBLE, DT_COMPLEX64, DT_COMPLEX128, DT_BOOL, DT_BFLOAT16]\n",
            "  device='TPU'; T in [DT_INT32, DT_UINT32, DT_BFLOAT16, DT_FLOAT, DT_DOUBLE, DT_BOOL, DT_COMPLEX64, DT_INT64, DT_UINT64, DT_QINT8, DT_QUINT8]\n",
            "  device='TPU_SYSTEM'\n",
            "  device='GPU'; T in [DT_HALF]\n",
            "  device='GPU'; T in [DT_BFLOAT16]\n",
            "  device='GPU'; T in [DT_FLOAT]\n",
            "  device='GPU'; T in [DT_DOUBLE]\n",
            "  device='GPU'; T in [DT_INT64]\n",
            "  device='GPU'; T in [DT_UINT16]\n",
            "  device='GPU'; T in [DT_INT16]\n",
            "  device='GPU'; T in [DT_UINT8]\n",
            "  device='GPU'; T in [DT_INT8]\n",
            "  device='GPU'; T in [DT_COMPLEX64]\n",
            "  device='GPU'; T in [DT_COMPLEX128]\n",
            "  device='GPU'; T in [DT_VARIANT]\n",
            "  device='GPU'; T in [DT_UINT32]\n",
            "  device='GPU'; T in [DT_BOOL]\n",
            "  device='DEFAULT'; T in [DT_STRING]\n",
            "  device='DEFAULT'; T in [DT_VARIANT]\n",
            "  device='DEFAULT'; T in [DT_RESOURCE]\n",
            "  device='CPU'\n",
            "\n",
            "\t [[Identity]] [Op:DeleteIterator]\n",
            "Exception ignored in: <bound method IteratorResourceDeleter.__del__ of <tensorflow.python.data.ops.iterator_ops.IteratorResourceDeleter object at 0x7fa2e1703a58>>\n",
            "Traceback (most recent call last):\n",
            "  File \"/usr/local/lib/python3.6/dist-packages/tensorflow/python/data/ops/iterator_ops.py\", line 537, in __del__\n",
            "    handle=self._handle, deleter=self._deleter)\n",
            "  File \"/usr/local/lib/python3.6/dist-packages/tensorflow/python/ops/gen_dataset_ops.py\", line 1282, in delete_iterator\n",
            "    _ops.raise_from_not_ok_status(e, name)\n",
            "  File \"/usr/local/lib/python3.6/dist-packages/tensorflow/python/framework/ops.py\", line 6843, in raise_from_not_ok_status\n",
            "    six.raise_from(core._status_to_exception(e.code, message), None)\n",
            "  File \"<string>\", line 3, in raise_from\n",
            "tensorflow.python.framework.errors_impl.NotFoundError: No registered 'Identity' OpKernel for 'TPU' devices compatible with node {{node Identity}}\n",
            "\t (OpKernel was found, but attributes didn't match) Requested Attributes: T=DT_INT8\n",
            "\t.  Registered:  device='XLA_GPU_JIT'; T in [DT_FLOAT, DT_DOUBLE, DT_INT32, DT_UINT8, DT_INT16, ..., DT_HALF, DT_UINT32, DT_UINT64, DT_RESOURCE, DT_VARIANT]\n",
            "  device='XLA_CPU_JIT'; T in [DT_FLOAT, DT_DOUBLE, DT_INT32, DT_UINT8, DT_INT16, ..., DT_HALF, DT_UINT32, DT_UINT64, DT_RESOURCE, DT_VARIANT]\n",
            "  device='XLA_TPU_JIT'; T in [DT_FLOAT, DT_DOUBLE, DT_INT32, DT_COMPLEX64, DT_INT64, DT_BOOL, DT_QINT8, DT_QUINT8, DT_BFLOAT16, DT_UINT32, DT_UINT64, DT_RESOURCE, DT_VARIANT]\n",
            "  device='XLA_CPU'; T in [DT_UINT8, DT_QUINT8, DT_UINT16, DT_INT8, DT_QINT8, ..., DT_DOUBLE, DT_COMPLEX64, DT_COMPLEX128, DT_BOOL, DT_BFLOAT16]\n",
            "  device='TPU'; T in [DT_INT32, DT_UINT32, DT_BFLOAT16, DT_FLOAT, DT_DOUBLE, DT_BOOL, DT_COMPLEX64, DT_INT64, DT_UINT64, DT_QINT8, DT_QUINT8]\n",
            "  device='TPU_SYSTEM'\n",
            "  device='GPU'; T in [DT_HALF]\n",
            "  device='GPU'; T in [DT_BFLOAT16]\n",
            "  device='GPU'; T in [DT_FLOAT]\n",
            "  device='GPU'; T in [DT_DOUBLE]\n",
            "  device='GPU'; T in [DT_INT64]\n",
            "  device='GPU'; T in [DT_UINT16]\n",
            "  device='GPU'; T in [DT_INT16]\n",
            "  device='GPU'; T in [DT_UINT8]\n",
            "  device='GPU'; T in [DT_INT8]\n",
            "  device='GPU'; T in [DT_COMPLEX64]\n",
            "  device='GPU'; T in [DT_COMPLEX128]\n",
            "  device='GPU'; T in [DT_VARIANT]\n",
            "  device='GPU'; T in [DT_UINT32]\n",
            "  device='GPU'; T in [DT_BOOL]\n",
            "  device='DEFAULT'; T in [DT_STRING]\n",
            "  device='DEFAULT'; T in [DT_VARIANT]\n",
            "  device='DEFAULT'; T in [DT_RESOURCE]\n",
            "  device='CPU'\n",
            "\n",
            "\t [[Identity]] [Op:DeleteIterator]\n"
          ],
          "name": "stderr"
        },
        {
          "output_type": "stream",
          "text": [
            "WARNING:tensorflow:From /usr/local/lib/python3.6/dist-packages/keras_metrics/metrics.py:51: calling Layer.add_update (from tensorflow.python.keras.engine.base_layer) with inputs is deprecated and will be removed in a future version.\n",
            "Instructions for updating:\n",
            "`inputs` is now automatically inferred\n"
          ],
          "name": "stdout"
        },
        {
          "output_type": "stream",
          "text": [
            "WARNING:tensorflow:From /usr/local/lib/python3.6/dist-packages/keras_metrics/metrics.py:51: calling Layer.add_update (from tensorflow.python.keras.engine.base_layer) with inputs is deprecated and will be removed in a future version.\n",
            "Instructions for updating:\n",
            "`inputs` is now automatically inferred\n"
          ],
          "name": "stderr"
        },
        {
          "output_type": "stream",
          "text": [
            "WARNING:tensorflow:From /usr/local/lib/python3.6/dist-packages/keras_metrics/metrics.py:26: Layer.updates (from tensorflow.python.keras.engine.base_layer) is deprecated and will be removed in a future version.\n",
            "Instructions for updating:\n",
            "This property should not be used in TensorFlow 2.0, as updates are applied automatically.\n"
          ],
          "name": "stdout"
        },
        {
          "output_type": "stream",
          "text": [
            "WARNING:tensorflow:From /usr/local/lib/python3.6/dist-packages/keras_metrics/metrics.py:26: Layer.updates (from tensorflow.python.keras.engine.base_layer) is deprecated and will be removed in a future version.\n",
            "Instructions for updating:\n",
            "This property should not be used in TensorFlow 2.0, as updates are applied automatically.\n"
          ],
          "name": "stderr"
        },
        {
          "output_type": "stream",
          "text": [
            "\r   1/6898 [..............................] - ETA: 3:18:04 - loss: 100.2445 - precision: 0.0000e+00 - recall: 0.0000e+00WARNING:tensorflow:Callbacks method `on_train_batch_end` is slow compared to the batch time (batch time: 0.0022s vs `on_train_batch_end` time: 0.0208s). Check your callbacks.\n"
          ],
          "name": "stdout"
        },
        {
          "output_type": "stream",
          "text": [
            "WARNING:tensorflow:Callbacks method `on_train_batch_end` is slow compared to the batch time (batch time: 0.0022s vs `on_train_batch_end` time: 0.0208s). Check your callbacks.\n"
          ],
          "name": "stderr"
        },
        {
          "output_type": "stream",
          "text": [
            "6898/6898 [==============================] - 166s 24ms/step - loss: 1.5101 - precision: 0.7660 - recall: 0.7033\n",
            "Epoch 2/7\n",
            "6898/6898 [==============================] - 164s 24ms/step - loss: 0.1954 - precision: 0.9785 - recall: 0.9877\n",
            "Epoch 3/7\n",
            "6898/6898 [==============================] - 162s 23ms/step - loss: 0.1781 - precision: 0.9816 - recall: 0.9883\n",
            "Epoch 4/7\n",
            "6898/6898 [==============================] - 164s 24ms/step - loss: 0.1739 - precision: 0.9815 - recall: 0.9887\n",
            "Epoch 5/7\n",
            "6898/6898 [==============================] - 163s 24ms/step - loss: 0.1743 - precision: 0.9816 - recall: 0.9889\n",
            "Epoch 6/7\n",
            "6898/6898 [==============================] - 163s 24ms/step - loss: 0.1732 - precision: 0.9815 - recall: 0.9888\n",
            "Epoch 7/7\n",
            "6898/6898 [==============================] - 168s 24ms/step - loss: 0.1740 - precision: 0.9809 - recall: 0.9886\n"
          ],
          "name": "stdout"
        },
        {
          "output_type": "execute_result",
          "data": {
            "text/plain": [
              "<tensorflow.python.keras.callbacks.History at 0x7fa34a149e80>"
            ]
          },
          "metadata": {
            "tags": []
          },
          "execution_count": 19
        }
      ]
    },
    {
      "cell_type": "code",
      "metadata": {
        "id": "cQoG0iOUQG7w",
        "outputId": "dc418e3a-7ae1-4d2c-b382-f5175ffdaaf7",
        "colab": {
          "base_uri": "https://localhost:8080/"
        }
      },
      "source": [
        "model.evaluate(X[0:100], Y[0:100], verbose=0)"
      ],
      "execution_count": 21,
      "outputs": [
        {
          "output_type": "execute_result",
          "data": {
            "text/plain": [
              "[0.19612851738929749, 0.97817462682724, 0.9898539781570435]"
            ]
          },
          "metadata": {
            "tags": []
          },
          "execution_count": 21
        }
      ]
    }
  ]
}